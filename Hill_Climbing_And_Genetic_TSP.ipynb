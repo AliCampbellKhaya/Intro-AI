{
 "cells": [
  {
   "cell_type": "code",
   "execution_count": 13,
   "id": "b516ee81",
   "metadata": {},
   "outputs": [],
   "source": [
    "import random\n",
    "import numpy as np"
   ]
  },
  {
   "cell_type": "code",
   "execution_count": 14,
   "id": "4151c333",
   "metadata": {},
   "outputs": [],
   "source": [
    "# Defines the structure of the graph and connects the nodes within the graph\n",
    "class Graph:\n",
    "    def __init__(self, graph_dict):\n",
    "        self.graph_dict = graph_dict\n",
    "        for a in list(self.graph_dict.keys()):\n",
    "            for (b, dist) in self.graph_dict[a].items():\n",
    "                self.connect(b, a, dist)\n",
    "                self.connect(a, b, dist)\n",
    "\n",
    "    def connect(self, A, B, distance):\n",
    "        self.graph_dict.setdefault(A, {})[B] = distance"
   ]
  },
  {
   "cell_type": "code",
   "execution_count": 15,
   "id": "e0ebff8f",
   "metadata": {},
   "outputs": [],
   "source": [
    "# Defines a node within the graph\n",
    "class Node:\n",
    "    def __init__(self, state):\n",
    "        self.state = state"
   ]
  },
  {
   "cell_type": "code",
   "execution_count": 16,
   "id": "aed87bdb",
   "metadata": {},
   "outputs": [],
   "source": [
    "# Defines the structure of the Traveling Sales Person specific graph\n",
    "class TSP():\n",
    "    def __init__(self, initial_state, distances):\n",
    "        self.initial_state = initial_state\n",
    "        self.distances = distances\n",
    "        \n",
    "    # Defines the actions an agent can take - ie the edges it can traverse\n",
    "    def action(self, state):\n",
    "        neighbor = state[:]\n",
    "        left = random.randint(0, len(neighbor) - 1)\n",
    "        right = random.randint(0, len(neighbor) - 1)\n",
    "        if left > right:\n",
    "            left, right = right, left\n",
    "        neighbor[left: right + 1] = reversed(neighbor[left: right + 1])\n",
    "        return neighbor\n",
    "\n",
    "    # Returns the result of an action taken by the agent\n",
    "    def result(self, state, action):\n",
    "        return action(state)\n",
    "\n",
    "    # Calculates the cost of traversing an edge\n",
    "    def path_cost(self, state1, state2):\n",
    "        cost = 0\n",
    "        for i in range(len(state2) - 1):\n",
    "            cost += self.distances[state2[i]][state2[i + 1]]\n",
    "        cost += self.distances[state2[0]][state2[-1]]\n",
    "        return cost\n",
    "\n",
    "    def value(self, state):\n",
    "        return -1 * self.path_cost(None, state)"
   ]
  },
  {
   "cell_type": "code",
   "execution_count": 17,
   "id": "dd7d78ce",
   "metadata": {},
   "outputs": [],
   "source": [
    "# Chooses which iteration of the algorithm has produced the best result\n",
    "def argmax_random_tie(neighbors, key=lambda x: x):\n",
    "    max_val = max((key(x) for x in neighbors))\n",
    "    max_items = [x for x in neighbors if key(x) == max_val]\n",
    "    return random.choice(max_items)"
   ]
  },
  {
   "cell_type": "code",
   "execution_count": 18,
   "id": "2bcf7acf",
   "metadata": {},
   "outputs": [],
   "source": [
    "# Defines the hill climbing algorithm\n",
    "def hill_climbing(tsp):\n",
    "    # Finds the neighboring nodes it is possible for the agent to reach   \n",
    "    def find_neighbors(state, num_neighbors):      \n",
    "        neighbors = []\n",
    "        \n",
    "        for i in range(num_neighbors):\n",
    "            new_state = tsp.action(state)\n",
    "            neighbors.append(Node(new_state))\n",
    "            state = new_state\n",
    "            \n",
    "        return neighbors\n",
    "\n",
    "    # Max iterations\n",
    "    itr = 10000\n",
    "    \n",
    "    # Initialize problem\n",
    "    current_node = Node(tsp.initial_state)\n",
    "\n",
    "    # Hill Climbing algorithm implementation\n",
    "    for _ in range(itr):\n",
    "        # Finds neighbors\n",
    "        neighbors = find_neighbors(current_node.state, 100)\n",
    "        if neighbors:\n",
    "            # Finds best neighbor to visit\n",
    "            best_neighbor = argmax_random_tie(neighbors, key=lambda node: tsp.value(node.state))\n",
    "            if tsp.value(best_neighbor.state) <= tsp.value(current_node.state):\n",
    "                current_node = best_neighbor\n",
    "\n",
    "        else:\n",
    "            return current_node.stat\n",
    "        \n",
    "    return current_node.state\n"
   ]
  },
  {
   "cell_type": "code",
   "execution_count": 58,
   "id": "fbbde005",
   "metadata": {},
   "outputs": [],
   "source": [
    "# Defines the genetic algorithm\n",
    "def genetic_algorithm(tsp, population_size=100, generations=1000, mutation_rate=0.1):\n",
    "    # Defines the crossover function for the genetic algorithm\n",
    "    def crossover(parent1, parent2):\n",
    "        n = len(parent1)\n",
    "        start, end = sorted(random.sample(range(n), 2))\n",
    "        child = [-1] * n\n",
    "        child[start:end] = parent1[start:end]\n",
    "        \n",
    "        index = end\n",
    "        for city in parent2[end:] + parent2[:end]:\n",
    "            if city not in child:\n",
    "                child[index % n] = city\n",
    "                index += 1\n",
    "\n",
    "        return child\n",
    "    \n",
    "    # Defines the mutations for the genetic algroithm\n",
    "    def mutate(solution):\n",
    "        n = len(solution)\n",
    "        index1, index2 = sorted(random.sample(range(n), 2))\n",
    "        solution[index1], solution[index2] = solution[index2], solution[index1]\n",
    "        return solution\n",
    "\n",
    "    population = [Node(tsp.initial_state) for _ in range(population_size)]\n",
    "\n",
    "    for _ in range(generations):\n",
    "        # Choose the parents for the genetic algorithm\n",
    "        parents = [random.choice(population) for _ in range(population_size)]\n",
    "\n",
    "        # Generate the children\n",
    "        next_generation = []\n",
    "        for i in range(0, population_size, 2):\n",
    "            parent1 = parents[i]\n",
    "            parent2 = parents[i + 1]\n",
    "            child1 = crossover(parent1.state, parent2.state)\n",
    "            child2 = crossover(parent2.state, parent1.state)\n",
    "            next_generation.extend([Node(mutate(child1)), Node(mutate(child2))])\n",
    "\n",
    "        population = argmax_random_tie(next_generation, key=lambda node: tsp.value(node.state))\n",
    "        population = [Node(population.state)]\n",
    "\n",
    "    # Choose best solution\n",
    "    best_solution = argmax_random_tie(population, key=lambda node: tsp.value(node.state))\n",
    "    return best_solution.state"
   ]
  },
  {
   "cell_type": "code",
   "execution_count": 52,
   "id": "a5f1af9c",
   "metadata": {},
   "outputs": [],
   "source": [
    "# Defines the map of romania used in the graph for the traveling sales person problem\n",
    "romania_map = Graph(dict(\n",
    "    Arad=dict(Zerind=75, Sibiu=140, Timisoara=118),\n",
    "    Bucharest=dict(Urziceni=85, Pitesti=101, Giurgiu=90, Fagaras=211),\n",
    "    Craiova=dict(Drobeta=120, Rimnicu=146, Pitesti=138),\n",
    "    Drobeta=dict(Mehadia=75),\n",
    "    Eforie=dict(Hirsova=86),\n",
    "    Fagaras=dict(Sibiu=99),\n",
    "    Hirsova=dict(Urziceni=98),\n",
    "    Iasi=dict(Vaslui=92, Neamt=87),\n",
    "    Lugoj=dict(Timisoara=111, Mehadia=70),\n",
    "    Oradea=dict(Zerind=71, Sibiu=151),\n",
    "    Pitesti=dict(Rimnicu=97),\n",
    "    Rimnicu=dict(Sibiu=80),\n",
    "    Urziceni=dict(Vaslui=142)))\n",
    "\n",
    "romania_map.locations = dict(\n",
    "    Arad=(91, 492), Bucharest=(400, 327), Craiova=(253, 288),\n",
    "    Drobeta=(165, 299), Eforie=(562, 293), Fagaras=(305, 449),\n",
    "    Giurgiu=(375, 270), Hirsova=(534, 350), Iasi=(473, 506),\n",
    "    Lugoj=(165, 379), Mehadia=(168, 339), Neamt=(406, 537),\n",
    "    Oradea=(131, 571), Pitesti=(320, 368), Rimnicu=(233, 410),\n",
    "    Sibiu=(207, 457), Timisoara=(94, 410), Urziceni=(456, 350),\n",
    "    Vaslui=(509, 444), Zerind=(108, 531))"
   ]
  },
  {
   "cell_type": "code",
   "execution_count": 53,
   "id": "860e0d49",
   "metadata": {},
   "outputs": [],
   "source": [
    "# Initialize the tsp problem\n",
    "distances = {}\n",
    "cities = []\n",
    "\n",
    "for city in romania_map.locations.keys():\n",
    "    distances[city] = {}\n",
    "    cities.append(city)\n"
   ]
  },
  {
   "cell_type": "code",
   "execution_count": 54,
   "id": "874fa2c2",
   "metadata": {},
   "outputs": [],
   "source": [
    "# Initialize the tsp problem\n",
    "for city1, coords1 in romania_map.locations.items():\n",
    "        for city2, coords2 in romania_map.locations.items():\n",
    "            distances[city1][city2] = np.linalg.norm(\n",
    "                [coords1[0] - coords2[0], coords1[1] - coords2[1]])\n",
    "            distances[city2][city1] = np.linalg.norm(\n",
    "                [coords1[0] - coords2[0], coords1[1] - coords2[1]])"
   ]
  },
  {
   "cell_type": "code",
   "execution_count": 55,
   "id": "81999c08",
   "metadata": {},
   "outputs": [],
   "source": [
    "# Initialize the tsp problem\n",
    "tsp = TSP(cities, distances)"
   ]
  },
  {
   "cell_type": "code",
   "execution_count": 56,
   "id": "1bd72a9a",
   "metadata": {},
   "outputs": [
    {
     "name": "stdout",
     "output_type": "stream",
     "text": [
      "['Zerind', 'Lugoj', 'Timisoara', 'Pitesti', 'Neamt', 'Bucharest', 'Giurgiu', 'Hirsova', 'Mehadia', 'Oradea', 'Fagaras', 'Craiova', 'Rimnicu', 'Arad', 'Urziceni', 'Drobeta', 'Vaslui', 'Iasi', 'Sibiu', 'Eforie']\n",
      "4686.23640900363\n"
     ]
    }
   ],
   "source": [
    "# Run the hill climbing algorithm\n",
    "final_state = hill_climbing(tsp)\n",
    "print(final_state)\n",
    "total_cost = tsp.path_cost(tsp.initial_state, final_state)\n",
    "print(total_cost)"
   ]
  },
  {
   "cell_type": "code",
   "execution_count": 59,
   "id": "2d4a8dc8",
   "metadata": {},
   "outputs": [
    {
     "name": "stdout",
     "output_type": "stream",
     "text": [
      "['Arad', 'Zerind', 'Oradea', 'Bucharest', 'Urziceni', 'Hirsova', 'Eforie', 'Vaslui', 'Iasi', 'Neamt', 'Fagaras', 'Sibiu', 'Lugoj', 'Mehadia', 'Drobeta', 'Craiova', 'Giurgiu', 'Pitesti', 'Rimnicu', 'Timisoara']\n",
      "2002.6010047358545\n"
     ]
    }
   ],
   "source": [
    "# Run the genetic algorithm\n",
    "final_state = genetic_algorithm(tsp)\n",
    "print(final_state)\n",
    "total_cost = tsp.path_cost(tsp.initial_state, final_state)\n",
    "print(total_cost)"
   ]
  }
 ],
 "metadata": {
  "kernelspec": {
   "display_name": "Python 3 (ipykernel)",
   "language": "python",
   "name": "python3"
  },
  "language_info": {
   "codemirror_mode": {
    "name": "ipython",
    "version": 3
   },
   "file_extension": ".py",
   "mimetype": "text/x-python",
   "name": "python",
   "nbconvert_exporter": "python",
   "pygments_lexer": "ipython3",
   "version": "3.10.11"
  }
 },
 "nbformat": 4,
 "nbformat_minor": 5
}
