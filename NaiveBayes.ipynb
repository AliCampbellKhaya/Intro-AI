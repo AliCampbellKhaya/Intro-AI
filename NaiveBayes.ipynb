{
 "cells": [
  {
   "cell_type": "code",
   "execution_count": null,
   "metadata": {},
   "outputs": [],
   "source": [
    "import pandas as pd\n",
    "import numpy as np\n",
    "\n",
    "from sklearn.model_selection import train_test_split\n",
    "from sklearn.naive_bayes import MultinomialNB"
   ]
  },
  {
   "cell_type": "code",
   "execution_count": null,
   "metadata": {},
   "outputs": [],
   "source": [
    "bodies_df = pd.read_csv(\"emails\\dbworld_bodies_stemmed.csv\")\n",
    "subjects_df = pd.read_csv(\"emails\\dbworld_subjects_stemmed.csv\")"
   ]
  },
  {
   "cell_type": "code",
   "execution_count": null,
   "metadata": {},
   "outputs": [],
   "source": [
    "bodies_df.head()"
   ]
  },
  {
   "cell_type": "code",
   "execution_count": null,
   "metadata": {},
   "outputs": [],
   "source": [
    "subjects_df.head()"
   ]
  },
  {
   "cell_type": "code",
   "execution_count": null,
   "metadata": {},
   "outputs": [],
   "source": [
    "bodies_df.groupby(\"CLASS\").describe()"
   ]
  },
  {
   "cell_type": "code",
   "execution_count": null,
   "metadata": {},
   "outputs": [],
   "source": [
    "subjects_df.groupby(\"CLASS\").describe()"
   ]
  },
  {
   "cell_type": "code",
   "execution_count": null,
   "metadata": {},
   "outputs": [],
   "source": [
    "# Train test split\n",
    "bodies_X = bodies_df.iloc[:, 1:-1]\n",
    "bodies_y = bodies_df.iloc[:, -1:]\n",
    "bodies_X_train, bodies_X_test, bodies_y_train, bodies_y_test = train_test_split(bodies_X, bodies_y, test_size = 0.2)\n",
    "\n",
    "subjects_X = subjects_df.iloc[:, 1:-1]\n",
    "subjects_y = subjects_df.iloc[:, -1:]\n",
    "subjects_X_train, subjects_X_test, subjects_y_train, subjects_y_test = train_test_split(subjects_X, subjects_y, test_size = 0.2)"
   ]
  },
  {
   "cell_type": "code",
   "execution_count": null,
   "metadata": {},
   "outputs": [],
   "source": [
    "def F1_Score(y_pred, y_true):\n",
    "    # True Positive, True Negative, False Positive, False Negative\n",
    "    tp, tn, fp, fn = 0, 0, 0, 0\n",
    "    for i in range(len(y_pred)):\n",
    "        if y_pred[i] == 1 and y_true[i] == 1:\n",
    "            tp += 1\n",
    "        elif y_pred[i] == 0 and y_true[i] == 0:\n",
    "            tn += 1\n",
    "        elif y_pred[i] == 1 and y_true[i] == 0:\n",
    "            fp += 1\n",
    "        elif y_pred[i] == 0 and y_true[i] == 1:\n",
    "            fn += 1\n",
    "            \n",
    "    pre = tp / (tp + fp)\n",
    "    rec = tp / (tp + fn)\n",
    "    f1 = (2 * pre * rec) / (pre + rec)\n",
    "    return f1 "
   ]
  },
  {
   "cell_type": "code",
   "execution_count": null,
   "metadata": {},
   "outputs": [],
   "source": [
    "# Naive Bayes Classifier\n",
    "class NaiveBayes:\n",
    "    def __init__(self, k):\n",
    "        self.class_probs = {}\n",
    "        self.feature_probs = {}\n",
    "        self.classes = None\n",
    "        self.k = k\n",
    "\n",
    "    def fit(self, X, y):\n",
    "        self.classes = np.unique(y)\n",
    "        \n",
    "        # for every possible classification output, do this\n",
    "        for cls in self.classes:\n",
    "            # The row index for every row that is classified as the current class\n",
    "            cls_indices = np.where(y == cls)[0]\n",
    "            # The probability that a class is classified a certain way in the training data\n",
    "            self.class_probs[cls] = len(cls_indices) / len(y)\n",
    "\n",
    "            # Laplacian smoothing for feature probabilities, using the equation and algorithm discussed in class\n",
    "            self.feature_probs[cls] = (X.iloc[cls_indices, :].sum(axis=0) + self.k) / (len(cls_indices) + self.k * len(X.columns))\n",
    "            \n",
    "\n",
    "    def predict(self, X):\n",
    "        preds = []\n",
    "        \n",
    "        for _, sample in X.iterrows():\n",
    "            probs = {}\n",
    "\n",
    "            for cls in self.classes:\n",
    "                # P(class | features) = P(class) * P(features | class) - the equation discussed in class\n",
    "                probs[cls] = np.log(self.class_probs[cls]) + np.log(self.feature_probs[cls]).multiply(sample).sum()\n",
    "\n",
    "            # Takes the maximum likelihood prediction based on the generated probabilities\n",
    "            pred = pd.Series(probs).idxmax()\n",
    "            preds.append(pred)\n",
    "\n",
    "        return preds"
   ]
  },
  {
   "cell_type": "code",
   "execution_count": null,
   "metadata": {},
   "outputs": [],
   "source": [
    "# Test my implementation on body\n",
    "bodies_bayes = NaiveBayes(k=1)\n",
    "bodies_bayes.fit(bodies_X_train, bodies_y_train.values.ravel())\n",
    "bodies_bayes_preds = bodies_bayes.predict(bodies_X_test)\n",
    "print(f\"F1 Score: {F1_Score(bodies_bayes_preds, bodies_y_test.to_numpy())}\")"
   ]
  },
  {
   "cell_type": "code",
   "execution_count": null,
   "metadata": {},
   "outputs": [],
   "source": [
    "# Test my implementation on subject\n",
    "subjects_bayes = NaiveBayes(k=1)\n",
    "subjects_bayes.fit(subjects_X_train, subjects_y_train.values.ravel())\n",
    "subjects_bayes_preds = subjects_bayes.predict(subjects_X_test)\n",
    "print(f\"F1 Score: {F1_Score(subjects_bayes_preds, subjects_y_test.to_numpy())}\")"
   ]
  },
  {
   "cell_type": "code",
   "execution_count": null,
   "metadata": {},
   "outputs": [],
   "source": [
    "# Compare with sklearn implementation for bodies\n",
    "bodies_bayes = MultinomialNB()\n",
    "bodies_bayes.fit(bodies_X_train, bodies_y_train.values.ravel())\n",
    "bodies_bayes_preds = bodies_bayes.predict(bodies_X_test)\n",
    "print(f\"F1 Score: {F1_Score(bodies_bayes_preds, bodies_y_test.to_numpy())}\")"
   ]
  },
  {
   "cell_type": "code",
   "execution_count": null,
   "metadata": {},
   "outputs": [],
   "source": [
    "# Compare with sklearn implementation for subjects\n",
    "subjects_bayes = MultinomialNB()\n",
    "subjects_bayes.fit(subjects_X_train, subjects_y_train.values.ravel())\n",
    "subjects_bayes_preds = subjects_bayes.predict(subjects_X_test)\n",
    "print(f\"F1 Score: {F1_Score(subjects_bayes_preds, subjects_y_test.to_numpy())}\")"
   ]
  }
 ],
 "metadata": {
  "language_info": {
   "name": "python"
  }
 },
 "nbformat": 4,
 "nbformat_minor": 2
}
